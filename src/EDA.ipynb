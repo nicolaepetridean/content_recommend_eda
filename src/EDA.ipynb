{
 "cells": [
  {
   "cell_type": "markdown",
   "metadata": {},
   "source": [
    "### import libraries"
   ]
  },
  {
   "cell_type": "code",
   "execution_count": 1,
   "metadata": {},
   "outputs": [
    {
     "name": "stdout",
     "output_type": "stream",
     "text": [
      "Requirement already satisfied: tqdm in /Users/nicolaepetridean/jde/projects/content_recommend_eda/venv/lib/python3.6/site-packages (4.41.1)\n",
      "\u001b[33mYou are using pip version 10.0.1, however version 19.3.1 is available.\n",
      "You should consider upgrading via the 'pip install --upgrade pip' command.\u001b[0m\n",
      "Requirement already satisfied: seaborn in /Users/nicolaepetridean/jde/projects/content_recommend_eda/venv/lib/python3.6/site-packages (0.9.0)\n",
      "Requirement already satisfied: matplotlib>=1.4.3 in /Users/nicolaepetridean/jde/projects/content_recommend_eda/venv/lib/python3.6/site-packages (from seaborn) (3.1.2)\n",
      "Requirement already satisfied: scipy>=0.14.0 in /Users/nicolaepetridean/jde/projects/content_recommend_eda/venv/lib/python3.6/site-packages (from seaborn) (1.4.1)\n",
      "Requirement already satisfied: pandas>=0.15.2 in /Users/nicolaepetridean/jde/projects/content_recommend_eda/venv/lib/python3.6/site-packages (from seaborn) (0.25.3)\n",
      "Requirement already satisfied: numpy>=1.9.3 in /Users/nicolaepetridean/jde/projects/content_recommend_eda/venv/lib/python3.6/site-packages (from seaborn) (1.18.0)\n",
      "Requirement already satisfied: kiwisolver>=1.0.1 in /Users/nicolaepetridean/jde/projects/content_recommend_eda/venv/lib/python3.6/site-packages (from matplotlib>=1.4.3->seaborn) (1.1.0)\n",
      "Requirement already satisfied: cycler>=0.10 in /Users/nicolaepetridean/jde/projects/content_recommend_eda/venv/lib/python3.6/site-packages (from matplotlib>=1.4.3->seaborn) (0.10.0)\n",
      "Requirement already satisfied: python-dateutil>=2.1 in /Users/nicolaepetridean/jde/projects/content_recommend_eda/venv/lib/python3.6/site-packages (from matplotlib>=1.4.3->seaborn) (2.8.1)\n",
      "Requirement already satisfied: pyparsing!=2.0.4,!=2.1.2,!=2.1.6,>=2.0.1 in /Users/nicolaepetridean/jde/projects/content_recommend_eda/venv/lib/python3.6/site-packages (from matplotlib>=1.4.3->seaborn) (2.4.6)\n",
      "Requirement already satisfied: pytz>=2017.2 in /Users/nicolaepetridean/jde/projects/content_recommend_eda/venv/lib/python3.6/site-packages (from pandas>=0.15.2->seaborn) (2019.3)\n",
      "Requirement already satisfied: setuptools in /Users/nicolaepetridean/jde/projects/content_recommend_eda/venv/lib/python3.6/site-packages/setuptools-39.1.0-py3.6.egg (from kiwisolver>=1.0.1->matplotlib>=1.4.3->seaborn) (39.1.0)\n",
      "Requirement already satisfied: six in /Users/nicolaepetridean/jde/projects/content_recommend_eda/venv/lib/python3.6/site-packages (from cycler>=0.10->matplotlib>=1.4.3->seaborn) (1.13.0)\n",
      "\u001b[33mYou are using pip version 10.0.1, however version 19.3.1 is available.\n",
      "You should consider upgrading via the 'pip install --upgrade pip' command.\u001b[0m\n",
      "Requirement already satisfied: numpy in /Users/nicolaepetridean/jde/projects/content_recommend_eda/venv/lib/python3.6/site-packages (1.18.0)\n",
      "\u001b[33mYou are using pip version 10.0.1, however version 19.3.1 is available.\n",
      "You should consider upgrading via the 'pip install --upgrade pip' command.\u001b[0m\n",
      "Requirement already satisfied: pandas in /Users/nicolaepetridean/jde/projects/content_recommend_eda/venv/lib/python3.6/site-packages (0.25.3)\n",
      "Requirement already satisfied: pytz>=2017.2 in /Users/nicolaepetridean/jde/projects/content_recommend_eda/venv/lib/python3.6/site-packages (from pandas) (2019.3)\n",
      "Requirement already satisfied: numpy>=1.13.3 in /Users/nicolaepetridean/jde/projects/content_recommend_eda/venv/lib/python3.6/site-packages (from pandas) (1.18.0)\n",
      "Requirement already satisfied: python-dateutil>=2.6.1 in /Users/nicolaepetridean/jde/projects/content_recommend_eda/venv/lib/python3.6/site-packages (from pandas) (2.8.1)\n",
      "Requirement already satisfied: six>=1.5 in /Users/nicolaepetridean/jde/projects/content_recommend_eda/venv/lib/python3.6/site-packages (from python-dateutil>=2.6.1->pandas) (1.13.0)\n",
      "\u001b[33mYou are using pip version 10.0.1, however version 19.3.1 is available.\n",
      "You should consider upgrading via the 'pip install --upgrade pip' command.\u001b[0m\n",
      "Requirement already satisfied: matplotlib in /Users/nicolaepetridean/jde/projects/content_recommend_eda/venv/lib/python3.6/site-packages (3.1.2)\n",
      "Requirement already satisfied: cycler>=0.10 in /Users/nicolaepetridean/jde/projects/content_recommend_eda/venv/lib/python3.6/site-packages (from matplotlib) (0.10.0)\n",
      "Requirement already satisfied: pyparsing!=2.0.4,!=2.1.2,!=2.1.6,>=2.0.1 in /Users/nicolaepetridean/jde/projects/content_recommend_eda/venv/lib/python3.6/site-packages (from matplotlib) (2.4.6)\n",
      "Requirement already satisfied: kiwisolver>=1.0.1 in /Users/nicolaepetridean/jde/projects/content_recommend_eda/venv/lib/python3.6/site-packages (from matplotlib) (1.1.0)\n",
      "Requirement already satisfied: numpy>=1.11 in /Users/nicolaepetridean/jde/projects/content_recommend_eda/venv/lib/python3.6/site-packages (from matplotlib) (1.18.0)\n",
      "Requirement already satisfied: python-dateutil>=2.1 in /Users/nicolaepetridean/jde/projects/content_recommend_eda/venv/lib/python3.6/site-packages (from matplotlib) (2.8.1)\n",
      "Requirement already satisfied: six in /Users/nicolaepetridean/jde/projects/content_recommend_eda/venv/lib/python3.6/site-packages (from cycler>=0.10->matplotlib) (1.13.0)\n",
      "Requirement already satisfied: setuptools in /Users/nicolaepetridean/jde/projects/content_recommend_eda/venv/lib/python3.6/site-packages/setuptools-39.1.0-py3.6.egg (from kiwisolver>=1.0.1->matplotlib) (39.1.0)\n",
      "\u001b[33mYou are using pip version 10.0.1, however version 19.3.1 is available.\n",
      "You should consider upgrading via the 'pip install --upgrade pip' command.\u001b[0m\n"
     ]
    }
   ],
   "source": [
    "!pip install tqdm\n",
    "!pip install seaborn\n",
    "!pip install numpy\n",
    "!pip install pandas\n",
    "!pip install matplotlib"
   ]
  },
  {
   "cell_type": "code",
   "execution_count": 4,
   "metadata": {},
   "outputs": [],
   "source": [
    "from tqdm import tqdm_notebook as tqdm\n",
    "import seaborn as sns\n",
    "import numpy as np\n",
    "import matplotlib.pyplot as plt\n",
    "import pandas as pd\n",
    "import matplotlib as plot\n",
    "import glob as glob\n",
    "\n",
    "import warnings\n",
    "warnings.filterwarnings('ignore')\n"
   ]
  },
  {
   "cell_type": "markdown",
   "metadata": {},
   "source": [
    "### define path to data & import data"
   ]
  },
  {
   "cell_type": "code",
   "execution_count": 3,
   "metadata": {},
   "outputs": [
    {
     "name": "stdout",
     "output_type": "stream",
     "text": [
      "../data/documents_categories.csv\n",
      "../data/documents_topics.csv\n",
      "../data/clicks_train.csv\n",
      "../data/clicks_test.csv\n",
      "../data/page_views_sample.csv\n",
      "../data/documents_meta.csv\n",
      "../data/promoted_content.csv\n",
      "../data/events.csv\n",
      "../data/documents_entities.csv\n"
     ]
    }
   ],
   "source": [
    "path = '../data' # outside this folder there is another folder where all the data is stored\n",
    "all_files = glob.glob(path + \"/*.csv\")\n",
    "\n",
    "li = []\n",
    "\n",
    "for filename in all_files:\n",
    "    print(filename)\n",
    "#     df = pd.read_csv(filename, index_col=None, header=0)\n",
    "#     li.append(df)"
   ]
  },
  {
   "cell_type": "code",
   "execution_count": 4,
   "metadata": {},
   "outputs": [
    {
     "data": {
      "text/plain": [
       "0"
      ]
     },
     "execution_count": 4,
     "metadata": {},
     "output_type": "execute_result"
    }
   ],
   "source": [
    "import gc\n",
    "try: del li, df\n",
    "except: pass;\n",
    "gc.collect()"
   ]
  },
  {
   "cell_type": "code",
   "execution_count": 5,
   "metadata": {},
   "outputs": [],
   "source": [
    "events_csv = '../data/events.csv'\n",
    "events_info = pd.read_csv(events_csv)"
   ]
  },
  {
   "cell_type": "code",
   "execution_count": 12,
   "metadata": {},
   "outputs": [
    {
     "data": {
      "text/html": [
       "<div>\n",
       "<style scoped>\n",
       "    .dataframe tbody tr th:only-of-type {\n",
       "        vertical-align: middle;\n",
       "    }\n",
       "\n",
       "    .dataframe tbody tr th {\n",
       "        vertical-align: top;\n",
       "    }\n",
       "\n",
       "    .dataframe thead th {\n",
       "        text-align: right;\n",
       "    }\n",
       "</style>\n",
       "<table border=\"1\" class=\"dataframe\">\n",
       "  <thead>\n",
       "    <tr style=\"text-align: right;\">\n",
       "      <th></th>\n",
       "      <th>display_id</th>\n",
       "      <th>uuid</th>\n",
       "      <th>document_id</th>\n",
       "      <th>timestamp</th>\n",
       "      <th>platform</th>\n",
       "      <th>geo_location</th>\n",
       "    </tr>\n",
       "  </thead>\n",
       "  <tbody>\n",
       "    <tr>\n",
       "      <th>0</th>\n",
       "      <td>1</td>\n",
       "      <td>cb8c55702adb93</td>\n",
       "      <td>379743</td>\n",
       "      <td>61</td>\n",
       "      <td>3</td>\n",
       "      <td>US</td>\n",
       "    </tr>\n",
       "    <tr>\n",
       "      <th>1</th>\n",
       "      <td>2</td>\n",
       "      <td>79a85fa78311b9</td>\n",
       "      <td>1794259</td>\n",
       "      <td>81</td>\n",
       "      <td>2</td>\n",
       "      <td>US</td>\n",
       "    </tr>\n",
       "    <tr>\n",
       "      <th>2</th>\n",
       "      <td>3</td>\n",
       "      <td>822932ce3d8757</td>\n",
       "      <td>1179111</td>\n",
       "      <td>182</td>\n",
       "      <td>2</td>\n",
       "      <td>US</td>\n",
       "    </tr>\n",
       "    <tr>\n",
       "      <th>3</th>\n",
       "      <td>4</td>\n",
       "      <td>85281d0a49f7ac</td>\n",
       "      <td>1777797</td>\n",
       "      <td>234</td>\n",
       "      <td>2</td>\n",
       "      <td>US</td>\n",
       "    </tr>\n",
       "    <tr>\n",
       "      <th>4</th>\n",
       "      <td>5</td>\n",
       "      <td>8d0daef4bf5b56</td>\n",
       "      <td>252458</td>\n",
       "      <td>338</td>\n",
       "      <td>2</td>\n",
       "      <td>SG</td>\n",
       "    </tr>\n",
       "  </tbody>\n",
       "</table>\n",
       "</div>"
      ],
      "text/plain": [
       "   display_id            uuid  document_id  timestamp platform geo_location\n",
       "0           1  cb8c55702adb93       379743         61        3           US\n",
       "1           2  79a85fa78311b9      1794259         81        2           US\n",
       "2           3  822932ce3d8757      1179111        182        2           US\n",
       "3           4  85281d0a49f7ac      1777797        234        2           US\n",
       "4           5  8d0daef4bf5b56       252458        338        2           SG"
      ]
     },
     "execution_count": 12,
     "metadata": {},
     "output_type": "execute_result"
    }
   ],
   "source": [
    "events_info.head()"
   ]
  },
  {
   "cell_type": "code",
   "execution_count": 6,
   "metadata": {},
   "outputs": [
    {
     "data": {
      "text/plain": [
       "2     10684579\n",
       "1      8747280\n",
       "3      3032907\n",
       "2       291699\n",
       "1       279988\n",
       "3        83668\n",
       "\\N           5\n",
       "Name: platform, dtype: int64"
      ]
     },
     "execution_count": 6,
     "metadata": {},
     "output_type": "execute_result"
    }
   ],
   "source": [
    "events_info.platform.value_counts()"
   ]
  },
  {
   "cell_type": "code",
   "execution_count": 147,
   "metadata": {},
   "outputs": [
    {
     "data": {
      "text/plain": [
       "<matplotlib.axes._subplots.AxesSubplot at 0x1b620a780>"
      ]
     },
     "execution_count": 147,
     "metadata": {},
     "output_type": "execute_result"
    },
    {
     "data": {
      "image/png": "[encoded data removed]",
      "text/plain": [
       "<Figure size 432x288 with 1 Axes>"
      ]
     },
     "metadata": {
      "needs_background": "light"
     },
     "output_type": "display_data"
    }
   ],
   "source": [
    "sns.scatterplot(x=events_info['geo_location'], y=events_info['platform'])"
   ]
  },
  {
   "cell_type": "markdown",
   "metadata": {},
   "source": [
    "It seems the distribution of plafforms used versus geolocation is quite uniform."
   ]
  },
  {
   "cell_type": "markdown",
   "metadata": {},
   "source": [
    "### Interesting to see that each category is both present as a string and number. should be treated the same."
   ]
  },
  {
   "cell_type": "code",
   "execution_count": 153,
   "metadata": {},
   "outputs": [
    {
     "name": "stdout",
     "output_type": "stream",
     "text": [
      "[(0.12156862745098039, 0.4666666666666667, 0.7058823529411765), (1.0, 0.4980392156862745, 0.054901960784313725), (0.17254901960784313, 0.6274509803921569, 0.17254901960784313), (0.8392156862745098, 0.15294117647058825, 0.1568627450980392), (0.5803921568627451, 0.403921568627451, 0.7411764705882353), (0.5490196078431373, 0.33725490196078434, 0.29411764705882354), (0.8901960784313725, 0.4666666666666667, 0.7607843137254902), (0.4980392156862745, 0.4980392156862745, 0.4980392156862745), (0.7372549019607844, 0.7411764705882353, 0.13333333333333333), (0.09019607843137255, 0.7450980392156863, 0.8117647058823529)]\n"
     ]
    }
   ],
   "source": [
    "p = sns.color_palette()\n",
    "print(p)"
   ]
  },
  {
   "cell_type": "code",
   "execution_count": 8,
   "metadata": {},
   "outputs": [
    {
     "data": {
      "text/plain": [
       "Text(0, 0.5, 'Occurence count')"
      ]
     },
     "execution_count": 8,
     "metadata": {},
     "output_type": "execute_result"
    },
    {
     "data": {
      "image/png": "[encoded data removed]",
      "text/plain": [
       "<Figure size 864x288 with 1 Axes>"
      ]
     },
     "metadata": {
      "needs_background": "light"
     },
     "output_type": "display_data"
    }
   ],
   "source": [
    "events_info.platform = events_info.platform.astype(str)\n",
    "plat = events_info.platform.value_counts()\n",
    "\n",
    "plt.figure(figsize=(12,4))\n",
    "sns.barplot(plat.index, plat.values, alpha=0.8, color=p[2])\n",
    "plt.xlabel('Platform', fontsize=12)\n",
    "plt.ylabel('Occurence count', fontsize=12)"
   ]
  },
  {
   "cell_type": "code",
   "execution_count": 9,
   "metadata": {},
   "outputs": [],
   "source": [
    "events_info['geo_location'] = events_info['geo_location'].apply(lambda x: str(x).split(\">\")[0])"
   ]
  },
  {
   "cell_type": "code",
   "execution_count": 10,
   "metadata": {},
   "outputs": [
    {
     "data": {
      "text/html": [
       "<div>\n",
       "<style scoped>\n",
       "    .dataframe tbody tr th:only-of-type {\n",
       "        vertical-align: middle;\n",
       "    }\n",
       "\n",
       "    .dataframe tbody tr th {\n",
       "        vertical-align: top;\n",
       "    }\n",
       "\n",
       "    .dataframe thead th {\n",
       "        text-align: right;\n",
       "    }\n",
       "</style>\n",
       "<table border=\"1\" class=\"dataframe\">\n",
       "  <thead>\n",
       "    <tr style=\"text-align: right;\">\n",
       "      <th></th>\n",
       "      <th>display_id</th>\n",
       "      <th>uuid</th>\n",
       "      <th>document_id</th>\n",
       "      <th>timestamp</th>\n",
       "      <th>platform</th>\n",
       "      <th>geo_location</th>\n",
       "    </tr>\n",
       "  </thead>\n",
       "  <tbody>\n",
       "    <tr>\n",
       "      <th>0</th>\n",
       "      <td>1</td>\n",
       "      <td>cb8c55702adb93</td>\n",
       "      <td>379743</td>\n",
       "      <td>61</td>\n",
       "      <td>3</td>\n",
       "      <td>US</td>\n",
       "    </tr>\n",
       "    <tr>\n",
       "      <th>1</th>\n",
       "      <td>2</td>\n",
       "      <td>79a85fa78311b9</td>\n",
       "      <td>1794259</td>\n",
       "      <td>81</td>\n",
       "      <td>2</td>\n",
       "      <td>US</td>\n",
       "    </tr>\n",
       "    <tr>\n",
       "      <th>2</th>\n",
       "      <td>3</td>\n",
       "      <td>822932ce3d8757</td>\n",
       "      <td>1179111</td>\n",
       "      <td>182</td>\n",
       "      <td>2</td>\n",
       "      <td>US</td>\n",
       "    </tr>\n",
       "    <tr>\n",
       "      <th>3</th>\n",
       "      <td>4</td>\n",
       "      <td>85281d0a49f7ac</td>\n",
       "      <td>1777797</td>\n",
       "      <td>234</td>\n",
       "      <td>2</td>\n",
       "      <td>US</td>\n",
       "    </tr>\n",
       "    <tr>\n",
       "      <th>4</th>\n",
       "      <td>5</td>\n",
       "      <td>8d0daef4bf5b56</td>\n",
       "      <td>252458</td>\n",
       "      <td>338</td>\n",
       "      <td>2</td>\n",
       "      <td>SG</td>\n",
       "    </tr>\n",
       "  </tbody>\n",
       "</table>\n",
       "</div>"
      ],
      "text/plain": [
       "   display_id            uuid  document_id  timestamp platform geo_location\n",
       "0           1  cb8c55702adb93       379743         61        3           US\n",
       "1           2  79a85fa78311b9      1794259         81        2           US\n",
       "2           3  822932ce3d8757      1179111        182        2           US\n",
       "3           4  85281d0a49f7ac      1777797        234        2           US\n",
       "4           5  8d0daef4bf5b56       252458        338        2           SG"
      ]
     },
     "execution_count": 10,
     "metadata": {},
     "output_type": "execute_result"
    }
   ],
   "source": [
    "events_info.head()"
   ]
  },
  {
   "cell_type": "markdown",
   "metadata": {},
   "source": [
    "### let's try to get some info about the users"
   ]
  },
  {
   "cell_type": "code",
   "execution_count": 11,
   "metadata": {},
   "outputs": [
    {
     "name": "stdout",
     "output_type": "stream",
     "text": [
      "uuid\n",
      "ef7761dd22277c    38\n",
      "45d23867dbe3b3    38\n",
      "c0bd502c7a479f    42\n",
      "2759b057797f02    46\n",
      "b88553e3a2aa29    49\n",
      "Name: uuid, dtype: int64\n",
      "Users that appear less than 2 times: 88.42%\n",
      "Users that appear less than 3 times: 97.02%\n",
      "Users that appear less than 5 times: 99.51%\n",
      "Users that appear less than 8 times: 99.91%\n",
      "Users that appear less than 10 times: 99.96%\n",
      "Users that appear less than 15 times: 99.99%\n"
     ]
    },
    {
     "data": {
      "image/png": "[encoded data removed]",
      "text/plain": [
       "<Figure size 864x288 with 1 Axes>"
      ]
     },
     "metadata": {
      "needs_background": "light"
     },
     "output_type": "display_data"
    }
   ],
   "source": [
    "users_count = events_info.groupby('uuid')['uuid'].count().sort_values()\n",
    "\n",
    "print(users_count.tail())\n",
    "\n",
    "for i in [2,3,5,8,10,15]:\n",
    "    print('Users that appear less than {} times: {}%'.format(i, round((users_count < i).mean() * 100, 2)))\n",
    "    \n",
    "plt.figure(figsize=(12, 4))\n",
    "plt.hist(users_count.values, bins=50, log=True)\n",
    "plt.xlabel('Number of times user appeared in set', fontsize=12)\n",
    "plt.ylabel('log(Count of users)', fontsize=12)\n",
    "plt.show()"
   ]
  },
  {
   "cell_type": "code",
   "execution_count": 65,
   "metadata": {},
   "outputs": [],
   "source": [
    "promoted_content_csv = '../data/promoted_content.csv'\n",
    "promoted_info = pd.read_csv(promoted_content_csv)"
   ]
  },
  {
   "cell_type": "code",
   "execution_count": 66,
   "metadata": {},
   "outputs": [
    {
     "data": {
      "text/html": [
       "<div>\n",
       "<style scoped>\n",
       "    .dataframe tbody tr th:only-of-type {\n",
       "        vertical-align: middle;\n",
       "    }\n",
       "\n",
       "    .dataframe tbody tr th {\n",
       "        vertical-align: top;\n",
       "    }\n",
       "\n",
       "    .dataframe thead th {\n",
       "        text-align: right;\n",
       "    }\n",
       "</style>\n",
       "<table border=\"1\" class=\"dataframe\">\n",
       "  <thead>\n",
       "    <tr style=\"text-align: right;\">\n",
       "      <th></th>\n",
       "      <th>ad_id</th>\n",
       "      <th>document_id</th>\n",
       "      <th>campaign_id</th>\n",
       "      <th>advertiser_id</th>\n",
       "    </tr>\n",
       "  </thead>\n",
       "  <tbody>\n",
       "    <tr>\n",
       "      <th>0</th>\n",
       "      <td>1</td>\n",
       "      <td>6614</td>\n",
       "      <td>1</td>\n",
       "      <td>7</td>\n",
       "    </tr>\n",
       "    <tr>\n",
       "      <th>1</th>\n",
       "      <td>2</td>\n",
       "      <td>471467</td>\n",
       "      <td>2</td>\n",
       "      <td>7</td>\n",
       "    </tr>\n",
       "    <tr>\n",
       "      <th>2</th>\n",
       "      <td>3</td>\n",
       "      <td>7692</td>\n",
       "      <td>3</td>\n",
       "      <td>7</td>\n",
       "    </tr>\n",
       "    <tr>\n",
       "      <th>3</th>\n",
       "      <td>4</td>\n",
       "      <td>471471</td>\n",
       "      <td>2</td>\n",
       "      <td>7</td>\n",
       "    </tr>\n",
       "    <tr>\n",
       "      <th>4</th>\n",
       "      <td>5</td>\n",
       "      <td>471472</td>\n",
       "      <td>2</td>\n",
       "      <td>7</td>\n",
       "    </tr>\n",
       "  </tbody>\n",
       "</table>\n",
       "</div>"
      ],
      "text/plain": [
       "   ad_id  document_id  campaign_id  advertiser_id\n",
       "0      1         6614            1              7\n",
       "1      2       471467            2              7\n",
       "2      3         7692            3              7\n",
       "3      4       471471            2              7\n",
       "4      5       471472            2              7"
      ]
     },
     "execution_count": 66,
     "metadata": {},
     "output_type": "execute_result"
    }
   ],
   "source": [
    "promoted_info.head()"
   ]
  },
  {
   "cell_type": "code",
   "execution_count": 87,
   "metadata": {},
   "outputs": [
    {
     "name": "stdout",
     "output_type": "stream",
     "text": [
      "4385 unique advertisers\n",
      "34675 unique campaigns\n",
      "advertiser_id\n",
      "2         2\n",
      "3        12\n",
      "4       168\n",
      "5        45\n",
      "6        15\n",
      "       ... \n",
      "4499      1\n",
      "4501      1\n",
      "4510     44\n",
      "4516      1\n",
      "4532     43\n",
      "Name: advertiser_id, Length: 4385, dtype: int64\n"
     ]
    },
    {
     "data": {
      "image/png": "[encoded data removed]",
      "text/plain": [
       "<Figure size 864x288 with 1 Axes>"
      ]
     },
     "metadata": {
      "needs_background": "light"
     },
     "output_type": "display_data"
    }
   ],
   "source": [
    "unique_advertisers = promoted_info['advertiser_id'].astype(int).unique()\n",
    "\n",
    "print(str(len(unique_advertisers)) + ' unique advertisers')\n",
    "\n",
    "unique_campaigns = promoted_info['campaign_id'].unique()\n",
    "print(str(len(unique_campaigns)) + ' unique campaigns')\n",
    "\n",
    "active_advertisers = promoted_info.groupby('advertiser_id')['advertiser_id'].count()\n",
    "print(active_advertisers)\n",
    "\n",
    "plt.figure(figsize=(12, 4))\n",
    "plt.hist(active_advertisers.values, bins=30, log=True)\n",
    "plt.xlabel('advertiser', fontsize=12)\n",
    "plt.ylabel('nr of adds', fontsize=12)\n",
    "plt.show()\n"
   ]
  },
  {
   "cell_type": "markdown",
   "metadata": {},
   "source": [
    "### merge data : click with events. this operation is very expensive. so we will use it one by one inbetween different files, just for the safe of EDA, for training we will load the data in chunks. "
   ]
  },
  {
   "cell_type": "code",
   "execution_count": 112,
   "metadata": {},
   "outputs": [],
   "source": [
    "train_csv = '../data/clicks_train.csv'\n",
    "train_data = pd.read_csv(train_csv)"
   ]
  },
  {
   "cell_type": "code",
   "execution_count": null,
   "metadata": {},
   "outputs": [],
   "source": [
    "merged_train_data = train_data.merge(events_info, on=\"display_id\", how=\"outer\").fillna(\"\")"
   ]
  },
  {
   "cell_type": "code",
   "execution_count": 150,
   "metadata": {},
   "outputs": [
    {
     "data": {
      "text/html": [
       "<div>\n",
       "<style scoped>\n",
       "    .dataframe tbody tr th:only-of-type {\n",
       "        vertical-align: middle;\n",
       "    }\n",
       "\n",
       "    .dataframe tbody tr th {\n",
       "        vertical-align: top;\n",
       "    }\n",
       "\n",
       "    .dataframe thead th {\n",
       "        text-align: right;\n",
       "    }\n",
       "</style>\n",
       "<table border=\"1\" class=\"dataframe\">\n",
       "  <thead>\n",
       "    <tr style=\"text-align: right;\">\n",
       "      <th></th>\n",
       "      <th>display_id</th>\n",
       "      <th>ad_id</th>\n",
       "      <th>clicked</th>\n",
       "      <th>uuid</th>\n",
       "      <th>document_id</th>\n",
       "      <th>timestamp</th>\n",
       "      <th>platform</th>\n",
       "      <th>geo_location</th>\n",
       "    </tr>\n",
       "  </thead>\n",
       "  <tbody>\n",
       "    <tr>\n",
       "      <th>0</th>\n",
       "      <td>1</td>\n",
       "      <td>42337</td>\n",
       "      <td>0</td>\n",
       "      <td>cb8c55702adb93</td>\n",
       "      <td>379743</td>\n",
       "      <td>61</td>\n",
       "      <td>3</td>\n",
       "      <td>US</td>\n",
       "    </tr>\n",
       "    <tr>\n",
       "      <th>1</th>\n",
       "      <td>1</td>\n",
       "      <td>139684</td>\n",
       "      <td>0</td>\n",
       "      <td>cb8c55702adb93</td>\n",
       "      <td>379743</td>\n",
       "      <td>61</td>\n",
       "      <td>3</td>\n",
       "      <td>US</td>\n",
       "    </tr>\n",
       "    <tr>\n",
       "      <th>2</th>\n",
       "      <td>1</td>\n",
       "      <td>144739</td>\n",
       "      <td>1</td>\n",
       "      <td>cb8c55702adb93</td>\n",
       "      <td>379743</td>\n",
       "      <td>61</td>\n",
       "      <td>3</td>\n",
       "      <td>US</td>\n",
       "    </tr>\n",
       "    <tr>\n",
       "      <th>3</th>\n",
       "      <td>1</td>\n",
       "      <td>156824</td>\n",
       "      <td>0</td>\n",
       "      <td>cb8c55702adb93</td>\n",
       "      <td>379743</td>\n",
       "      <td>61</td>\n",
       "      <td>3</td>\n",
       "      <td>US</td>\n",
       "    </tr>\n",
       "    <tr>\n",
       "      <th>4</th>\n",
       "      <td>1</td>\n",
       "      <td>279295</td>\n",
       "      <td>0</td>\n",
       "      <td>cb8c55702adb93</td>\n",
       "      <td>379743</td>\n",
       "      <td>61</td>\n",
       "      <td>3</td>\n",
       "      <td>US</td>\n",
       "    </tr>\n",
       "  </tbody>\n",
       "</table>\n",
       "</div>"
      ],
      "text/plain": [
       "   display_id   ad_id clicked            uuid  document_id  timestamp  \\\n",
       "0           1   42337       0  cb8c55702adb93       379743         61   \n",
       "1           1  139684       0  cb8c55702adb93       379743         61   \n",
       "2           1  144739       1  cb8c55702adb93       379743         61   \n",
       "3           1  156824       0  cb8c55702adb93       379743         61   \n",
       "4           1  279295       0  cb8c55702adb93       379743         61   \n",
       "\n",
       "  platform geo_location  \n",
       "0        3           US  \n",
       "1        3           US  \n",
       "2        3           US  \n",
       "3        3           US  \n",
       "4        3           US  "
      ]
     },
     "execution_count": 150,
     "metadata": {},
     "output_type": "execute_result"
    }
   ],
   "source": [
    "merged_train_data.head()\n",
    "#train_data.head()\n",
    "#events_info.info()\n",
    "#merged_train_data.head()"
   ]
  },
  {
   "cell_type": "code",
   "execution_count": 34,
   "metadata": {},
   "outputs": [
    {
     "data": {
      "text/plain": [
       "478951"
      ]
     },
     "execution_count": 34,
     "metadata": {},
     "output_type": "execute_result"
    }
   ],
   "source": [
    "merged_train_data[\"ad_id\"].nunique() #unique advertisements ids\n",
    "#events_info[\"document_id\"].nunique()"
   ]
  },
  {
   "cell_type": "code",
   "execution_count": 151,
   "metadata": {},
   "outputs": [
    {
     "data": {
      "text/plain": [
       "<matplotlib.axes._subplots.AxesSubplot at 0x1b6ff6780>"
      ]
     },
     "execution_count": 151,
     "metadata": {},
     "output_type": "execute_result"
    },
    {
     "data": {
      "image/png": "[encoded data removed]",
      "text/plain": [
       "<Figure size 432x288 with 1 Axes>"
      ]
     },
     "metadata": {
      "needs_background": "light"
     },
     "output_type": "display_data"
    }
   ],
   "source": [
    "sns.scatterplot(x=merged_train_data['geo_location'], y=merged_train_data['display_id'])"
   ]
  },
  {
   "cell_type": "markdown",
   "metadata": {},
   "source": [
    "### merge also test data with events info"
   ]
  },
  {
   "cell_type": "code",
   "execution_count": 90,
   "metadata": {},
   "outputs": [],
   "source": [
    "test_csv = '../data/clicks_test.csv'\n",
    "test_data = pd.read_csv(test_csv)\n",
    "merged_test_data = test_data.merge(events_info, on=\"display_id\", how=\"outer\").fillna(\"\")"
   ]
  },
  {
   "cell_type": "code",
   "execution_count": 110,
   "metadata": {},
   "outputs": [
    {
     "data": {
      "text/html": [
       "<div>\n",
       "<style scoped>\n",
       "    .dataframe tbody tr th:only-of-type {\n",
       "        vertical-align: middle;\n",
       "    }\n",
       "\n",
       "    .dataframe tbody tr th {\n",
       "        vertical-align: top;\n",
       "    }\n",
       "\n",
       "    .dataframe thead th {\n",
       "        text-align: right;\n",
       "    }\n",
       "</style>\n",
       "<table border=\"1\" class=\"dataframe\">\n",
       "  <thead>\n",
       "    <tr style=\"text-align: right;\">\n",
       "      <th></th>\n",
       "      <th>display_id</th>\n",
       "      <th>ad_id</th>\n",
       "      <th>uuid</th>\n",
       "      <th>document_id</th>\n",
       "      <th>timestamp</th>\n",
       "      <th>platform</th>\n",
       "      <th>geo_location</th>\n",
       "    </tr>\n",
       "  </thead>\n",
       "  <tbody>\n",
       "    <tr>\n",
       "      <th>49099745</th>\n",
       "      <td>16874584</td>\n",
       "      <td></td>\n",
       "      <td>94680f981bf165</td>\n",
       "      <td>2311552</td>\n",
       "      <td>1123198843</td>\n",
       "      <td>2</td>\n",
       "      <td>US</td>\n",
       "    </tr>\n",
       "    <tr>\n",
       "      <th>49099746</th>\n",
       "      <td>16874585</td>\n",
       "      <td></td>\n",
       "      <td>6c23d6809274d4</td>\n",
       "      <td>479781</td>\n",
       "      <td>1123198914</td>\n",
       "      <td>2</td>\n",
       "      <td>CA</td>\n",
       "    </tr>\n",
       "    <tr>\n",
       "      <th>49099747</th>\n",
       "      <td>16874586</td>\n",
       "      <td></td>\n",
       "      <td>1931d00a6f2830</td>\n",
       "      <td>2799635</td>\n",
       "      <td>1123199143</td>\n",
       "      <td>2</td>\n",
       "      <td>US</td>\n",
       "    </tr>\n",
       "    <tr>\n",
       "      <th>49099748</th>\n",
       "      <td>16874587</td>\n",
       "      <td></td>\n",
       "      <td>f82df924309e8b</td>\n",
       "      <td>161824</td>\n",
       "      <td>1123199167</td>\n",
       "      <td>2</td>\n",
       "      <td>US</td>\n",
       "    </tr>\n",
       "    <tr>\n",
       "      <th>49099749</th>\n",
       "      <td>16874588</td>\n",
       "      <td></td>\n",
       "      <td>1bf30bbd832319</td>\n",
       "      <td>2822648</td>\n",
       "      <td>1123199298</td>\n",
       "      <td>2</td>\n",
       "      <td>US</td>\n",
       "    </tr>\n",
       "    <tr>\n",
       "      <th>49099750</th>\n",
       "      <td>16874589</td>\n",
       "      <td></td>\n",
       "      <td>d2c47d8183e37b</td>\n",
       "      <td>876520</td>\n",
       "      <td>1123199313</td>\n",
       "      <td>3</td>\n",
       "      <td>US</td>\n",
       "    </tr>\n",
       "    <tr>\n",
       "      <th>49099751</th>\n",
       "      <td>16874590</td>\n",
       "      <td></td>\n",
       "      <td>4032cf074d74a3</td>\n",
       "      <td>2819923</td>\n",
       "      <td>1123199470</td>\n",
       "      <td>3</td>\n",
       "      <td>US</td>\n",
       "    </tr>\n",
       "    <tr>\n",
       "      <th>49099752</th>\n",
       "      <td>16874591</td>\n",
       "      <td></td>\n",
       "      <td>49396799cb3a40</td>\n",
       "      <td>2816969</td>\n",
       "      <td>1123199601</td>\n",
       "      <td>1</td>\n",
       "      <td>US</td>\n",
       "    </tr>\n",
       "    <tr>\n",
       "      <th>49099753</th>\n",
       "      <td>16874592</td>\n",
       "      <td></td>\n",
       "      <td>45f3b28fd8f19d</td>\n",
       "      <td>2823420</td>\n",
       "      <td>1123199635</td>\n",
       "      <td>2</td>\n",
       "      <td>GB</td>\n",
       "    </tr>\n",
       "    <tr>\n",
       "      <th>49099754</th>\n",
       "      <td>16874593</td>\n",
       "      <td></td>\n",
       "      <td>21f03d8a66e702</td>\n",
       "      <td>2777166</td>\n",
       "      <td>1123199936</td>\n",
       "      <td>2</td>\n",
       "      <td>US</td>\n",
       "    </tr>\n",
       "  </tbody>\n",
       "</table>\n",
       "</div>"
      ],
      "text/plain": [
       "          display_id ad_id            uuid  document_id   timestamp platform  \\\n",
       "49099745    16874584        94680f981bf165      2311552  1123198843        2   \n",
       "49099746    16874585        6c23d6809274d4       479781  1123198914        2   \n",
       "49099747    16874586        1931d00a6f2830      2799635  1123199143        2   \n",
       "49099748    16874587        f82df924309e8b       161824  1123199167        2   \n",
       "49099749    16874588        1bf30bbd832319      2822648  1123199298        2   \n",
       "49099750    16874589        d2c47d8183e37b       876520  1123199313        3   \n",
       "49099751    16874590        4032cf074d74a3      2819923  1123199470        3   \n",
       "49099752    16874591        49396799cb3a40      2816969  1123199601        1   \n",
       "49099753    16874592        45f3b28fd8f19d      2823420  1123199635        2   \n",
       "49099754    16874593        21f03d8a66e702      2777166  1123199936        2   \n",
       "\n",
       "         geo_location  \n",
       "49099745           US  \n",
       "49099746           CA  \n",
       "49099747           US  \n",
       "49099748           US  \n",
       "49099749           US  \n",
       "49099750           US  \n",
       "49099751           US  \n",
       "49099752           US  \n",
       "49099753           GB  \n",
       "49099754           US  "
      ]
     },
     "execution_count": 110,
     "metadata": {},
     "output_type": "execute_result"
    }
   ],
   "source": [
    "merged_test_data.tail(10)"
   ]
  },
  {
   "cell_type": "markdown",
   "metadata": {},
   "source": [
    "### read also test data to be able to check distribution against train data."
   ]
  },
  {
   "cell_type": "code",
   "execution_count": 109,
   "metadata": {},
   "outputs": [
    {
     "ename": "AttributeError",
     "evalue": "'TextFileReader' object has no attribute 'head'",
     "output_type": "error",
     "traceback": [
      "\u001b[0;31m---------------------------------------------------------------------------\u001b[0m",
      "\u001b[0;31mAttributeError\u001b[0m                            Traceback (most recent call last)",
      "\u001b[0;32m<ipython-input-109-c4dda1b59424>\u001b[0m in \u001b[0;36m<module>\u001b[0;34m\u001b[0m\n\u001b[0;32m----> 1\u001b[0;31m \u001b[0mtrain_data\u001b[0m\u001b[0;34m.\u001b[0m\u001b[0mhead\u001b[0m\u001b[0;34m(\u001b[0m\u001b[0;34m)\u001b[0m\u001b[0;34m\u001b[0m\u001b[0m\n\u001b[0m",
      "\u001b[0;31mAttributeError\u001b[0m: 'TextFileReader' object has no attribute 'head'"
     ]
    }
   ],
   "source": [
    "train_data.head()"
   ]
  },
  {
   "cell_type": "code",
   "execution_count": 93,
   "metadata": {},
   "outputs": [
    {
     "data": {
      "text/plain": [
       "<bound method DataFrame.info of           display_id   ad_id\n",
       "0           16874594   66758\n",
       "1           16874594  150083\n",
       "2           16874594  162754\n",
       "3           16874594  170392\n",
       "4           16874594  172888\n",
       "...              ...     ...\n",
       "32225157    23120125  254698\n",
       "32225158    23120126   57097\n",
       "32225159    23120126  145293\n",
       "32225160    23120126  201649\n",
       "32225161    23120126  292363\n",
       "\n",
       "[32225162 rows x 2 columns]>"
      ]
     },
     "execution_count": 93,
     "metadata": {},
     "output_type": "execute_result"
    }
   ],
   "source": [
    "test_data.info"
   ]
  },
  {
   "cell_type": "markdown",
   "metadata": {},
   "source": [
    "### comparing the distribution on clicks vs hours, to check test vs. train data "
   ]
  },
  {
   "cell_type": "code",
   "execution_count": 94,
   "metadata": {},
   "outputs": [
    {
     "data": {
      "text/plain": [
       "Text(0, 0.5, 'Proportion of set')"
      ]
     },
     "execution_count": 94,
     "metadata": {},
     "output_type": "execute_result"
    },
    {
     "data": {
      "image/png": "[encoded data removed]",
      "text/plain": [
       "<Figure size 864x288 with 1 Axes>"
      ]
     },
     "metadata": {
      "needs_background": "light"
     },
     "output_type": "display_data"
    }
   ],
   "source": [
    "%matplotlib inline\n",
    "train_ads_per_display = train_data.groupby('display_id')['ad_id'].count().value_counts()\n",
    "test_ads_per_display = test_data.groupby('display_id')['ad_id'].count().value_counts()\n",
    "train_ads_per_display = train_ads_per_display / np.sum(train_ads_per_display)\n",
    "test_ads_per_display = test_ads_per_display / np.sum(test_ads_per_display)\n",
    "\n",
    "plt.figure(figsize=(12,4))\n",
    "sns.barplot(train_ads_per_display.index, train_ads_per_display.values, alpha=0.8, color=p[0], label='train')\n",
    "sns.barplot(test_ads_per_display.index, test_ads_per_display.values, alpha=0.6, color=p[3], label='test')\n",
    "plt.legend()\n",
    "plt.xlabel('Number of Ads in display', fontsize=12)\n",
    "plt.ylabel('Proportion of set', fontsize=12)"
   ]
  },
  {
   "cell_type": "markdown",
   "metadata": {},
   "source": [
    "### Add distribution per display seems to be ok.\n",
    "### Now checking again the distribution per region."
   ]
  },
  {
   "cell_type": "code",
   "execution_count": 95,
   "metadata": {},
   "outputs": [
    {
     "data": {
      "text/plain": [
       "Text(0, 0.5, 'Proportion of set')"
      ]
     },
     "execution_count": 95,
     "metadata": {},
     "output_type": "execute_result"
    },
    {
     "data": {
      "image/png": "[encoded data removed]",
      "text/plain": [
       "<Figure size 864x288 with 1 Axes>"
      ]
     },
     "metadata": {
      "needs_background": "light"
     },
     "output_type": "display_data"
    }
   ],
   "source": [
    "%matplotlib inline\n",
    "import matplotlib.pyplot as plt\n",
    "merged_train_data_disp = merged_train_data.groupby('display_id')['geo_location'].count().value_counts()\n",
    "merged_test_data_disp = merged_test_data.groupby('display_id')['geo_location'].count().value_counts()\n",
    "merged_train_data_disp = merged_train_data_disp / np.sum(merged_train_data_disp)\n",
    "merged_test_data_disp = merged_test_data_disp / np.sum(merged_test_data_disp)\n",
    "\n",
    "plt.figure(figsize=(12,4))\n",
    "sns.barplot(merged_train_data_disp.index, merged_train_data_disp.values, alpha=0.8, color=p[0], label='train')\n",
    "sns.barplot(merged_test_data_disp.index, merged_test_data_disp.values, alpha=0.6, color=p[8], label='test')\n",
    "plt.legend()\n",
    "plt.xlabel('Number of Ads in display', fontsize=12)\n",
    "plt.ylabel('Proportion of set', fontsize=12)"
   ]
  },
  {
   "cell_type": "markdown",
   "metadata": {},
   "source": [
    "### so the distribution on geo_location in between test and dev is not quite the same"
   ]
  },
  {
   "cell_type": "markdown",
   "metadata": {},
   "source": [
    "### A little bit of cleanup"
   ]
  },
  {
   "cell_type": "code",
   "execution_count": 96,
   "metadata": {},
   "outputs": [
    {
     "data": {
      "text/plain": [
       "8559"
      ]
     },
     "execution_count": 96,
     "metadata": {},
     "output_type": "execute_result"
    }
   ],
   "source": [
    "import gc\n",
    "try: del merged_train_data_disp, merged_test_data_disp, users_count, train_ads_per_display, test_ads_per_display, plat\n",
    "except: pass;\n",
    "gc.collect()"
   ]
  },
  {
   "cell_type": "markdown",
   "metadata": {},
   "source": [
    "### merge training data with promoted content info as well."
   ]
  },
  {
   "cell_type": "code",
   "execution_count": 60,
   "metadata": {},
   "outputs": [],
   "source": [
    "#TODO : this is too heavy. merge in chunks\n",
    "#merged_train_data['ad_id_doc_id'] = merged_train_data['ad_id'].astype(str) + '_' + merged_train_data['document_id'].astype(str)\n",
    "#promoted_info['ad_id_doc_id'] = promoted_info['ad_id'].astype(str) + '_' + promoted_info['document_id'].astype(str)\n",
    "#merged_train_data = merged_train_data.merge(promoted_info, on=\"display_id\", how=\"outer\").fillna(\"\")"
   ]
  },
  {
   "cell_type": "code",
   "execution_count": 97,
   "metadata": {
    "scrolled": true
   },
   "outputs": [
    {
     "name": "stdout",
     "output_type": "stream",
     "text": [
      "<class 'pandas.core.frame.DataFrame'>\n",
      "Int64Index: 93387264 entries, 0 to 93387263\n",
      "Data columns (total 8 columns):\n",
      "display_id      int64\n",
      "ad_id           object\n",
      "clicked         object\n",
      "uuid            object\n",
      "document_id     int64\n",
      "timestamp       int64\n",
      "platform        object\n",
      "geo_location    object\n",
      "dtypes: int64(3), object(5)\n",
      "memory usage: 6.3+ GB\n"
     ]
    }
   ],
   "source": [
    "merged_train_data.info()"
   ]
  },
  {
   "cell_type": "code",
   "execution_count": null,
   "metadata": {},
   "outputs": [],
   "source": [
    "#TODO : this is too heavy. merge in chunks\n",
    "#merged_train_data = merged_train_data.merge(promoted_info, on=\"ad_id_doc_id\", how=\"outer\").fillna(\"\")"
   ]
  },
  {
   "cell_type": "markdown",
   "metadata": {},
   "source": [
    "### Based on the information so far, try to train an algorithm based on clicks and promoted content."
   ]
  },
  {
   "cell_type": "code",
   "execution_count": 127,
   "metadata": {},
   "outputs": [
    {
     "data": {
      "text/html": [
       "<div>\n",
       "<style scoped>\n",
       "    .dataframe tbody tr th:only-of-type {\n",
       "        vertical-align: middle;\n",
       "    }\n",
       "\n",
       "    .dataframe tbody tr th {\n",
       "        vertical-align: top;\n",
       "    }\n",
       "\n",
       "    .dataframe thead th {\n",
       "        text-align: right;\n",
       "    }\n",
       "</style>\n",
       "<table border=\"1\" class=\"dataframe\">\n",
       "  <thead>\n",
       "    <tr style=\"text-align: right;\">\n",
       "      <th></th>\n",
       "      <th>display_id</th>\n",
       "      <th>uuid</th>\n",
       "      <th>document_id</th>\n",
       "      <th>timestamp</th>\n",
       "      <th>platform</th>\n",
       "      <th>geo_location</th>\n",
       "    </tr>\n",
       "  </thead>\n",
       "  <tbody>\n",
       "    <tr>\n",
       "      <th>0</th>\n",
       "      <td>0</td>\n",
       "      <td>15471847</td>\n",
       "      <td>114960</td>\n",
       "      <td>0</td>\n",
       "      <td>2</td>\n",
       "      <td>214</td>\n",
       "    </tr>\n",
       "    <tr>\n",
       "      <th>1</th>\n",
       "      <td>1</td>\n",
       "      <td>8713862</td>\n",
       "      <td>506745</td>\n",
       "      <td>1</td>\n",
       "      <td>1</td>\n",
       "      <td>214</td>\n",
       "    </tr>\n",
       "    <tr>\n",
       "      <th>2</th>\n",
       "      <td>2</td>\n",
       "      <td>9415450</td>\n",
       "      <td>337381</td>\n",
       "      <td>2</td>\n",
       "      <td>1</td>\n",
       "      <td>214</td>\n",
       "    </tr>\n",
       "    <tr>\n",
       "      <th>3</th>\n",
       "      <td>3</td>\n",
       "      <td>9662179</td>\n",
       "      <td>499882</td>\n",
       "      <td>3</td>\n",
       "      <td>1</td>\n",
       "      <td>214</td>\n",
       "    </tr>\n",
       "    <tr>\n",
       "      <th>4</th>\n",
       "      <td>4</td>\n",
       "      <td>10314232</td>\n",
       "      <td>72024</td>\n",
       "      <td>4</td>\n",
       "      <td>1</td>\n",
       "      <td>187</td>\n",
       "    </tr>\n",
       "  </tbody>\n",
       "</table>\n",
       "</div>"
      ],
      "text/plain": [
       "   display_id      uuid  document_id  timestamp  platform  geo_location\n",
       "0           0  15471847       114960          0         2           214\n",
       "1           1   8713862       506745          1         1           214\n",
       "2           2   9415450       337381          2         1           214\n",
       "3           3   9662179       499882          3         1           214\n",
       "4           4  10314232        72024          4         1           187"
      ]
     },
     "execution_count": 127,
     "metadata": {},
     "output_type": "execute_result"
    }
   ],
   "source": [
    "le = preprocessing.LabelEncoder()\n",
    "le.fit(events_info['geo_location'])\n",
    "le.transform(events_info['geo_location'])\n",
    "events_info = events_info.apply(le.fit_transform)\n",
    "\n",
    "events_info.head()"
   ]
  },
  {
   "cell_type": "markdown",
   "metadata": {},
   "source": [
    "### extract the platform and geo_location corresponding to a display_id so we can try to use it later for training."
   ]
  },
  {
   "cell_type": "code",
   "execution_count": null,
   "metadata": {},
   "outputs": [],
   "source": [
    "events_info.info()\n",
    "events_dict = {}\n",
    "for index, row in events_info.iterrows():\n",
    "    events_dict[events_info.iloc[index]['display_id']] = (events_info['platform'], events_info['geo_location']) "
   ]
  },
  {
   "cell_type": "markdown",
   "metadata": {},
   "source": [
    "### create a very simple random forest classifier. because of the size of the data, for now just use clicks + promoted content info."
   ]
  },
  {
   "cell_type": "code",
   "execution_count": 143,
   "metadata": {},
   "outputs": [
    {
     "name": "stdout",
     "output_type": "stream",
     "text": [
      "Training\n",
      "processing chunk : 0\n",
      "['ad_id', 'document_id', 'campaign_id', 'advertiser_id']\n",
      "processing chunk : 100\n",
      "['ad_id', 'document_id', 'campaign_id', 'advertiser_id']\n",
      "processing chunk : 200\n",
      "['ad_id', 'document_id', 'campaign_id', 'advertiser_id']\n",
      "processing chunk : 300\n",
      "['ad_id', 'document_id', 'campaign_id', 'advertiser_id']\n",
      "processing chunk : 400\n",
      "['ad_id', 'document_id', 'campaign_id', 'advertiser_id']\n",
      "processing chunk : 500\n",
      "['ad_id', 'document_id', 'campaign_id', 'advertiser_id']\n",
      "processing chunk : 600\n",
      "['ad_id', 'document_id', 'campaign_id', 'advertiser_id']\n",
      "processing chunk : 700\n",
      "['ad_id', 'document_id', 'campaign_id', 'advertiser_id']\n",
      "processing chunk : 800\n",
      "['ad_id', 'document_id', 'campaign_id', 'advertiser_id']\n",
      "processing chunk : 900\n",
      "['ad_id', 'document_id', 'campaign_id', 'advertiser_id']\n",
      "processing chunk : 1000\n",
      "['ad_id', 'document_id', 'campaign_id', 'advertiser_id']\n",
      "processing chunk : 1100\n",
      "['ad_id', 'document_id', 'campaign_id', 'advertiser_id']\n",
      "processing chunk : 1200\n",
      "['ad_id', 'document_id', 'campaign_id', 'advertiser_id']\n",
      "processing chunk : 1300\n",
      "['ad_id', 'document_id', 'campaign_id', 'advertiser_id']\n",
      "processing chunk : 1400\n",
      "['ad_id', 'document_id', 'campaign_id', 'advertiser_id']\n",
      "processing chunk : 1500\n",
      "['ad_id', 'document_id', 'campaign_id', 'advertiser_id']\n",
      "processing chunk : 1600\n",
      "['ad_id', 'document_id', 'campaign_id', 'advertiser_id']\n",
      "processing chunk : 1700\n",
      "['ad_id', 'document_id', 'campaign_id', 'advertiser_id']\n",
      "processing chunk : 1800\n",
      "['ad_id', 'document_id', 'campaign_id', 'advertiser_id']\n",
      "processing chunk : 1900\n",
      "['ad_id', 'document_id', 'campaign_id', 'advertiser_id']\n",
      "processing chunk : 2000\n",
      "['ad_id', 'document_id', 'campaign_id', 'advertiser_id']\n",
      "processing chunk : 2100\n",
      "['ad_id', 'document_id', 'campaign_id', 'advertiser_id']\n",
      "processing chunk : 2200\n",
      "['ad_id', 'document_id', 'campaign_id', 'advertiser_id']\n",
      "processing chunk : 2300\n",
      "['ad_id', 'document_id', 'campaign_id', 'advertiser_id']\n",
      "processing chunk : 2400\n",
      "['ad_id', 'document_id', 'campaign_id', 'advertiser_id']\n",
      "processing chunk : 2500\n",
      "['ad_id', 'document_id', 'campaign_id', 'advertiser_id']\n",
      "processing chunk : 2600\n",
      "['ad_id', 'document_id', 'campaign_id', 'advertiser_id']\n",
      "processing chunk : 2700\n",
      "['ad_id', 'document_id', 'campaign_id', 'advertiser_id']\n",
      "processing chunk : 2800\n",
      "['ad_id', 'document_id', 'campaign_id', 'advertiser_id']\n",
      "processing chunk : 2900\n",
      "['ad_id', 'document_id', 'campaign_id', 'advertiser_id']\n",
      "processing chunk : 3000\n",
      "['ad_id', 'document_id', 'campaign_id', 'advertiser_id']\n",
      "processing chunk : 3100\n",
      "['ad_id', 'document_id', 'campaign_id', 'advertiser_id']\n",
      "processing chunk : 3200\n",
      "['ad_id', 'document_id', 'campaign_id', 'advertiser_id']\n",
      "processing chunk : 3300\n",
      "['ad_id', 'document_id', 'campaign_id', 'advertiser_id']\n",
      "processing chunk : 3400\n",
      "['ad_id', 'document_id', 'campaign_id', 'advertiser_id']\n",
      "processing chunk : 3500\n",
      "['ad_id', 'document_id', 'campaign_id', 'advertiser_id']\n",
      "processing chunk : 3600\n",
      "['ad_id', 'document_id', 'campaign_id', 'advertiser_id']\n",
      "processing chunk : 3700\n",
      "['ad_id', 'document_id', 'campaign_id', 'advertiser_id']\n",
      "processing chunk : 3800\n",
      "['ad_id', 'document_id', 'campaign_id', 'advertiser_id']\n",
      "processing chunk : 3900\n",
      "['ad_id', 'document_id', 'campaign_id', 'advertiser_id']\n",
      "processing chunk : 4000\n",
      "['ad_id', 'document_id', 'campaign_id', 'advertiser_id']\n",
      "processing chunk : 4100\n",
      "['ad_id', 'document_id', 'campaign_id', 'advertiser_id']\n",
      "processing chunk : 4200\n",
      "['ad_id', 'document_id', 'campaign_id', 'advertiser_id']\n",
      "processing chunk : 4300\n",
      "['ad_id', 'document_id', 'campaign_id', 'advertiser_id']\n",
      "processing chunk : 4400\n",
      "['ad_id', 'document_id', 'campaign_id', 'advertiser_id']\n",
      "processing chunk : 4500\n",
      "['ad_id', 'document_id', 'campaign_id', 'advertiser_id']\n",
      "processing chunk : 4600\n",
      "['ad_id', 'document_id', 'campaign_id', 'advertiser_id']\n",
      "processing chunk : 4700\n",
      "['ad_id', 'document_id', 'campaign_id', 'advertiser_id']\n",
      "processing chunk : 4800\n",
      "['ad_id', 'document_id', 'campaign_id', 'advertiser_id']\n",
      "processing chunk : 4900\n",
      "['ad_id', 'document_id', 'campaign_id', 'advertiser_id']\n",
      "processing chunk : 5000\n",
      "['ad_id', 'document_id', 'campaign_id', 'advertiser_id']\n",
      "processing chunk : 5100\n",
      "['ad_id', 'document_id', 'campaign_id', 'advertiser_id']\n",
      "processing chunk : 5200\n",
      "['ad_id', 'document_id', 'campaign_id', 'advertiser_id']\n",
      "processing chunk : 5300\n",
      "['ad_id', 'document_id', 'campaign_id', 'advertiser_id']\n",
      "processing chunk : 5400\n",
      "['ad_id', 'document_id', 'campaign_id', 'advertiser_id']\n",
      "processing chunk : 5500\n",
      "['ad_id', 'document_id', 'campaign_id', 'advertiser_id']\n",
      "processing chunk : 5600\n",
      "['ad_id', 'document_id', 'campaign_id', 'advertiser_id']\n",
      "processing chunk : 5700\n",
      "['ad_id', 'document_id', 'campaign_id', 'advertiser_id']\n",
      "processing chunk : 5800\n",
      "['ad_id', 'document_id', 'campaign_id', 'advertiser_id']\n",
      "processing chunk : 5900\n",
      "['ad_id', 'document_id', 'campaign_id', 'advertiser_id']\n",
      "processing chunk : 6000\n",
      "['ad_id', 'document_id', 'campaign_id', 'advertiser_id']\n",
      "processing chunk : 6100\n",
      "['ad_id', 'document_id', 'campaign_id', 'advertiser_id']\n",
      "processing chunk : 6200\n",
      "['ad_id', 'document_id', 'campaign_id', 'advertiser_id']\n",
      "processing chunk : 6300\n",
      "['ad_id', 'document_id', 'campaign_id', 'advertiser_id']\n",
      "processing chunk : 6400\n",
      "['ad_id', 'document_id', 'campaign_id', 'advertiser_id']\n",
      "processing chunk : 6500\n",
      "['ad_id', 'document_id', 'campaign_id', 'advertiser_id']\n",
      "processing chunk : 6600\n",
      "['ad_id', 'document_id', 'campaign_id', 'advertiser_id']\n",
      "processing chunk : 6700\n",
      "['ad_id', 'document_id', 'campaign_id', 'advertiser_id']\n",
      "processing chunk : 6800\n",
      "['ad_id', 'document_id', 'campaign_id', 'advertiser_id']\n",
      "processing chunk : 6900\n",
      "['ad_id', 'document_id', 'campaign_id', 'advertiser_id']\n",
      "processing chunk : 7000\n",
      "['ad_id', 'document_id', 'campaign_id', 'advertiser_id']\n",
      "processing chunk : 7100\n",
      "['ad_id', 'document_id', 'campaign_id', 'advertiser_id']\n",
      "processing chunk : 7200\n",
      "['ad_id', 'document_id', 'campaign_id', 'advertiser_id']\n",
      "processing chunk : 7300\n",
      "['ad_id', 'document_id', 'campaign_id', 'advertiser_id']\n",
      "processing chunk : 7400\n",
      "['ad_id', 'document_id', 'campaign_id', 'advertiser_id']\n",
      "processing chunk : 7500\n",
      "['ad_id', 'document_id', 'campaign_id', 'advertiser_id']\n",
      "processing chunk : 7600\n",
      "['ad_id', 'document_id', 'campaign_id', 'advertiser_id']\n",
      "processing chunk : 7700\n",
      "['ad_id', 'document_id', 'campaign_id', 'advertiser_id']\n",
      "processing chunk : 7800\n",
      "['ad_id', 'document_id', 'campaign_id', 'advertiser_id']\n",
      "processing chunk : 7900\n",
      "['ad_id', 'document_id', 'campaign_id', 'advertiser_id']\n",
      "processing chunk : 8000\n",
      "['ad_id', 'document_id', 'campaign_id', 'advertiser_id']\n",
      "processing chunk : 8100\n",
      "['ad_id', 'document_id', 'campaign_id', 'advertiser_id']\n",
      "processing chunk : 8200\n",
      "['ad_id', 'document_id', 'campaign_id', 'advertiser_id']\n",
      "processing chunk : 8300\n",
      "['ad_id', 'document_id', 'campaign_id', 'advertiser_id']\n",
      "processing chunk : 8400\n",
      "['ad_id', 'document_id', 'campaign_id', 'advertiser_id']\n",
      "processing chunk : 8500\n",
      "['ad_id', 'document_id', 'campaign_id', 'advertiser_id']\n",
      "processing chunk : 8600\n",
      "['ad_id', 'document_id', 'campaign_id', 'advertiser_id']\n",
      "processing chunk : 8700\n",
      "['ad_id', 'document_id', 'campaign_id', 'advertiser_id']\n",
      "DONE training\n"
     ]
    }
   ],
   "source": [
    "from sklearn.ensemble import RandomForestClassifier\n",
    "from sklearn import preprocessing\n",
    "\n",
    "chunksize=10000# 87141731 is the total number, so it will take a while.\n",
    "train_data_chunks = pd.read_csv('../data/clicks_train.csv', iterator=True,chunksize=chunksize) #Load data\n",
    "print( 'Training')\n",
    "i = 0\n",
    "\n",
    "alg = RandomForestClassifier(random_state=1, n_estimators=3, min_samples_split=4, min_samples_leaf=2, warm_start=True)\n",
    "\n",
    "for chunk in train_data_chunks:\n",
    "    chunk=pd.merge(chunk,promoted_info,how='left',on='ad_id')\n",
    "    #chunk = pd.merge(chunk, events_info, on=\"display_id\", how=\"left\").fillna(\"\")\n",
    "    predictors=[x for x in chunk.columns if x not in ['display_id','clicked', 'uuid', 'timestamp']]\n",
    "    if i%100 == 0:\n",
    "        print('processing chunk : ' + str(i))\n",
    "        print(predictors)\n",
    "    chunk=chunk.fillna(0.0)\n",
    "    alg.fit(chunk[predictors], chunk[\"clicked\"])#Fit the Algorithm\n",
    "    i += 1\n",
    "\n",
    "print('DONE training')"
   ]
  },
  {
   "cell_type": "code",
   "execution_count": 154,
   "metadata": {},
   "outputs": [],
   "source": [
    "# try to find a good test split to validate a possible algorithm\n",
    "def get_data_splits(dataframe, valid_fraction=0.1):\n",
    "    valid_fraction = 0.1\n",
    "    valid_size = int(len(dataframe) * valid_fraction)\n",
    "\n",
    "    train = dataframe[:-valid_size * 2]\n",
    "    # valid size == test size, last two sections of the data\n",
    "    valid = dataframe[-valid_size * 2:-valid_size]\n",
    "    test = dataframe[-valid_size:]\n",
    "    \n",
    "    return train, valid, test"
   ]
  },
  {
   "cell_type": "code",
   "execution_count": 155,
   "metadata": {},
   "outputs": [],
   "source": [
    "def train_model(train, valid):\n",
    "    feature_cols = train.columns.drop('outcome')\n",
    "\n",
    "    dtrain = lgb.Dataset(train[feature_cols], label=train['outcome'])\n",
    "    dvalid = lgb.Dataset(valid[feature_cols], label=valid['outcome'])\n",
    "\n",
    "    param = {'num_leaves': 64, 'objective': 'binary', \n",
    "             'metric': 'auc', 'seed': 7}\n",
    "    print(\"Training model!\")\n",
    "    bst = lgb.train(param, dtrain, num_boost_round=1000, valid_sets=[dvalid], \n",
    "                    early_stopping_rounds=10, verbose_eval=False)\n",
    "\n",
    "    valid_pred = bst.predict(valid[feature_cols])\n",
    "    valid_score = metrics.roc_auc_score(valid['outcome'], valid_pred)\n",
    "    print(f\"Validation AUC score: {valid_score:.4f}\")\n",
    "    return bst"
   ]
  },
  {
   "cell_type": "markdown",
   "metadata": {},
   "source": [
    "### Apparently there are no NaNs or NONEs. Let's also check the types"
   ]
  },
  {
   "cell_type": "code",
   "execution_count": 167,
   "metadata": {},
   "outputs": [
    {
     "name": "stdout",
     "output_type": "stream",
     "text": [
      "display_id      0\n",
      "ad_id           0\n",
      "clicked         0\n",
      "uuid            0\n",
      "document_id     0\n",
      "timestamp       0\n",
      "platform        0\n",
      "geo_location    0\n",
      "dtype: int64\n",
      "display_id       int64\n",
      "ad_id           object\n",
      "clicked         object\n",
      "uuid            object\n",
      "document_id      int64\n",
      "timestamp        int64\n",
      "platform        object\n",
      "geo_location    object\n",
      "dtype: object\n"
     ]
    }
   ],
   "source": [
    "print(merged_train_data.isna().sum())\n",
    "print(merged_train_data.dtypes)"
   ]
  },
  {
   "cell_type": "code",
   "execution_count": 180,
   "metadata": {},
   "outputs": [
    {
     "name": "stdout",
     "output_type": "stream",
     "text": [
      "1    39994394\n",
      "2    39796390\n",
      "3    13596450\n",
      "0          30\n",
      "Name: platform, dtype: int64\n",
      "            6245533\n",
      "173005.0     211824\n",
      "180923.0     203159\n",
      "123742.0     202099\n",
      "151028.0     181319\n",
      "             ...   \n",
      "230032.0          1\n",
      "230031.0          1\n",
      "230029.0          1\n",
      "230025.0          1\n",
      "268955.0          1\n",
      "Name: ad_id, Length: 478951, dtype: int64\n",
      "US    74485601\n",
      "CA     5151292\n",
      "GB     4701301\n",
      "AU     2038493\n",
      "IN      965650\n",
      "        ...   \n",
      "IO          19\n",
      "NU          17\n",
      "CF          16\n",
      "PM          14\n",
      "TV          13\n",
      "Name: geo_location, Length: 231, dtype: int64\n",
      "1179111    1374434\n",
      "1827718    1161314\n",
      "394689      512111\n",
      "1788295     427322\n",
      "1690147     316509\n",
      "            ...   \n",
      "2917064          1\n",
      "1475975          1\n",
      "2917063          1\n",
      "727893           1\n",
      "65568            1\n",
      "Name: document_id, Length: 894060, dtype: int64\n"
     ]
    }
   ],
   "source": [
    "print(merged_train_data.platform.value_counts())\n",
    "print(merged_train_data.ad_id.value_counts())\n",
    "print(merged_train_data.geo_location.value_counts())\n",
    "print(merged_train_data.document_id.value_counts())"
   ]
  },
  {
   "cell_type": "code",
   "execution_count": null,
   "metadata": {},
   "outputs": [],
   "source": [
    "#Univariate Feature Selection\n",
    "from sklearn.feature_selection import SelectKBest, f_classif\n",
    "from sklearn.impute import SimpleImputer\n",
    "\n",
    "# remove user data, click data, display id data and timestamp as in the first phase these should not be relevand\n",
    "feature_cols = merged_train_data.columns.drop(['clicked', 'uuid', 'display_id', 'timestamp'])\n",
    "# Keep 5 features\n",
    "selector = SelectKBest(f_classif, k=5)\n",
    "\n",
    "# Imputation , this is to fix /N invalid values in platform, which we saw earlier.\n",
    "#my_imputer = SimpleImputer()\n",
    "#merged_train_data_imputed = pd.DataFrame(my_imputer.fit_transform(merged_train_data))\n",
    "\n",
    "# Imputation removed column names; put them back\n",
    "# merged_train_data_imputed.columns = merged_train_data.columns\n",
    "merged_train_data = merged_train_data.fillna(0)\n",
    "\n",
    "merged_train_data.ad_id = merged_train_data.ad_id.astype(int)\n",
    "\n",
    "le_data = preprocessing.LabelEncoder()\n",
    "le_data.fit(merged_train_data['geo_location'])\n",
    "le_data.transform(merged_train_data['geo_location'])\n",
    "merged_train_data = merged_train_data.apply(le_data.fit_transform)\n",
    "\n",
    "merged_train_data_new = selector.fit_transform(merged_train_data[feature_cols], merged_train_data['clicked'])\n",
    "merged_train_data_new"
   ]
  },
  {
   "cell_type": "code",
   "execution_count": 2,
   "metadata": {},
   "outputs": [
    {
     "ename": "NameError",
     "evalue": "name 'merged_train_data' is not defined",
     "output_type": "error",
     "traceback": [
      "\u001b[0;31m---------------------------------------------------------------------------\u001b[0m",
      "\u001b[0;31mNameError\u001b[0m                                 Traceback (most recent call last)",
      "\u001b[0;32m<ipython-input-2-362e4373fd86>\u001b[0m in \u001b[0;36m<module>\u001b[0;34m\u001b[0m\n\u001b[0;32m----> 1\u001b[0;31m \u001b[0mmerged_train_data\u001b[0m\u001b[0;34m.\u001b[0m\u001b[0mhead\u001b[0m\u001b[0;34m(\u001b[0m\u001b[0;34m)\u001b[0m\u001b[0;34m\u001b[0m\u001b[0m\n\u001b[0m",
      "\u001b[0;31mNameError\u001b[0m: name 'merged_train_data' is not defined"
     ]
    }
   ],
   "source": [
    "merged_train_data.head()"
   ]
  },
  {
   "cell_type": "code",
   "execution_count": 9,
   "metadata": {},
   "outputs": [
    {
     "name": "stdout",
     "output_type": "stream",
     "text": [
      "<class 'pandas.core.frame.DataFrame'>\n",
      "RangeIndex: 5481475 entries, 0 to 5481474\n",
      "Data columns (total 3 columns):\n",
      "document_id         int64\n",
      "category_id         int64\n",
      "confidence_level    float64\n",
      "dtypes: float64(1), int64(2)\n",
      "memory usage: 125.5 MB\n"
     ]
    }
   ],
   "source": [
    "category_info = pd.read_csv('../data/documents_categories.csv')\n",
    "category_info.info()"
   ]
  },
  {
   "cell_type": "markdown",
   "metadata": {},
   "source": [
    "### Let's check document ids vs category distribution"
   ]
  },
  {
   "cell_type": "code",
   "execution_count": 13,
   "metadata": {},
   "outputs": [
    {
     "data": {
      "text/plain": [
       "<matplotlib.axes._subplots.AxesSubplot at 0x12bfc8160>"
      ]
     },
     "execution_count": 13,
     "metadata": {},
     "output_type": "execute_result"
    },
    {
     "data": {
      "image/png": "[encoded data removed]",
      "text/plain": [
       "<Figure size 432x288 with 1 Axes>"
      ]
     },
     "metadata": {
      "needs_background": "light"
     },
     "output_type": "display_data"
    }
   ],
   "source": [
    "sns.barplot(x=category_info['category_id'], y=category_info.groupby('category_id')['document_id'].count())"
   ]
  },
  {
   "cell_type": "code",
   "execution_count": 14,
   "metadata": {},
   "outputs": [
    {
     "name": "stdout",
     "output_type": "stream",
     "text": [
      "<class 'pandas.core.frame.DataFrame'>\n",
      "RangeIndex: 11325960 entries, 0 to 11325959\n",
      "Data columns (total 3 columns):\n",
      "document_id         int64\n",
      "topic_id            int64\n",
      "confidence_level    float64\n",
      "dtypes: float64(1), int64(2)\n",
      "memory usage: 259.2 MB\n"
     ]
    }
   ],
   "source": [
    "topic_info = pd.read_csv('../data/documents_topics.csv')\n",
    "topic_info.info()"
   ]
  },
  {
   "cell_type": "code",
   "execution_count": null,
   "metadata": {},
   "outputs": [],
   "source": []
  },
  {
   "cell_type": "code",
   "execution_count": null,
   "metadata": {},
   "outputs": [],
   "source": [
    "sns.barplot(x=category_info['category_id'], y=category_info.groupby('category_id')['document_id'].count())"
   ]
  }
 ],
 "metadata": {
  "kernelspec": {
   "display_name": "Python 3",
   "language": "python",
   "name": "python3"
  },
  "language_info": {
   "codemirror_mode": {
    "name": "ipython",
    "version": 3
   },
   "file_extension": ".py",
   "mimetype": "text/x-python",
   "name": "python",
   "nbconvert_exporter": "python",
   "pygments_lexer": "ipython3",
   "version": "3.6.4"
  }
 },
 "nbformat": 4,
 "nbformat_minor": 1
}
