{
 "cells": [
  {
   "cell_type": "markdown",
   "metadata": {},
   "source": [
    "### import libraries"
   ]
  },
  {
   "cell_type": "code",
   "execution_count": 1,
   "metadata": {},
   "outputs": [],
   "source": [
    "from tqdm import tqdm_notebook as tqdm\n",
    "import seaborn as sns\n",
    "import numpy as np\n",
    "\n",
    "import pandas as pd\n",
    "import matplotlib as plot\n",
    "import glob as glob"
   ]
  },
  {
   "cell_type": "markdown",
   "metadata": {},
   "source": [
    "### define path to data & import data"
   ]
  },
  {
   "cell_type": "code",
   "execution_count": 2,
   "metadata": {},
   "outputs": [
    {
     "name": "stdout",
     "output_type": "stream",
     "text": [
      "../data/documents_categories.csv\n",
      "../data/documents_topics.csv\n",
      "../data/clicks_train.csv\n",
      "../data/clicks_test.csv\n",
      "../data/page_views_sample.csv\n",
      "../data/documents_meta.csv\n",
      "../data/promoted_content.csv\n",
      "../data/events.csv\n"
     ]
    },
    {
     "name": "stderr",
     "output_type": "stream",
     "text": [
      "/Users/nicolaepetridean/jde/projects/content_recommend_eda/venv/lib/python3.6/site-packages/IPython/core/interactiveshell.py:3051: DtypeWarning: Columns (4) have mixed types. Specify dtype option on import or set low_memory=False.\n",
      "  interactivity=interactivity, compiler=compiler, result=result)\n"
     ]
    },
    {
     "name": "stdout",
     "output_type": "stream",
     "text": [
      "../data/documents_entities.csv\n"
     ]
    }
   ],
   "source": [
    "path = '../data' # outside this folder there is another folder where all the data is stored\n",
    "all_files = glob.glob(path + \"/*.csv\")\n",
    "\n",
    "li = []\n",
    "\n",
    "for filename in all_files:\n",
    "    print(filename)\n",
    "    df = pd.read_csv(filename, index_col=None, header=0)\n",
    "    li.append(df)"
   ]
  },
  {
   "cell_type": "markdown",
   "metadata": {},
   "source": [
    "### merge data : click with events"
   ]
  },
  {
   "cell_type": "code",
   "execution_count": 3,
   "metadata": {},
   "outputs": [],
   "source": [
    "train_csv = '../data/clicks_train.csv'\n",
    "events_csv = '../data/events.csv'\n",
    "\n",
    "train_data = pd.read_csv(train_csv)\n",
    "events_info = pd.read_csv(events_csv)\n",
    "merged_train_data = train_data.merge(events_info, on=\"display_id\", how=\"outer\").fillna(\"\")"
   ]
  },
  {
   "cell_type": "code",
   "execution_count": 4,
   "metadata": {},
   "outputs": [
    {
     "name": "stdout",
     "output_type": "stream",
     "text": [
      "<class 'pandas.core.frame.DataFrame'>\n",
      "Int64Index: 93387264 entries, 0 to 93387263\n",
      "Data columns (total 8 columns):\n",
      "display_id      int64\n",
      "ad_id           object\n",
      "clicked         object\n",
      "uuid            object\n",
      "document_id     int64\n",
      "timestamp       int64\n",
      "platform        object\n",
      "geo_location    object\n",
      "dtypes: int64(3), object(5)\n",
      "memory usage: 6.3+ GB\n",
      "<class 'pandas.core.frame.DataFrame'>\n",
      "RangeIndex: 87141731 entries, 0 to 87141730\n",
      "Data columns (total 3 columns):\n",
      "display_id    int64\n",
      "ad_id         int64\n",
      "clicked       int64\n",
      "dtypes: int64(3)\n",
      "memory usage: 1.9 GB\n",
      "<class 'pandas.core.frame.DataFrame'>\n",
      "RangeIndex: 23120126 entries, 0 to 23120125\n",
      "Data columns (total 6 columns):\n",
      "display_id      int64\n",
      "uuid            object\n",
      "document_id     int64\n",
      "timestamp       int64\n",
      "platform        object\n",
      "geo_location    object\n",
      "dtypes: int64(3), object(3)\n",
      "memory usage: 1.0+ GB\n"
     ]
    }
   ],
   "source": [
    "merged_train_data.info()\n",
    "train_data.info()\n",
    "events_info.info()"
   ]
  },
  {
   "cell_type": "code",
   "execution_count": 6,
   "metadata": {},
   "outputs": [
    {
     "data": {
      "text/html": [
       "<div>\n",
       "<style scoped>\n",
       "    .dataframe tbody tr th:only-of-type {\n",
       "        vertical-align: middle;\n",
       "    }\n",
       "\n",
       "    .dataframe tbody tr th {\n",
       "        vertical-align: top;\n",
       "    }\n",
       "\n",
       "    .dataframe thead th {\n",
       "        text-align: right;\n",
       "    }\n",
       "</style>\n",
       "<table border=\"1\" class=\"dataframe\">\n",
       "  <thead>\n",
       "    <tr style=\"text-align: right;\">\n",
       "      <th></th>\n",
       "      <th>display_id</th>\n",
       "      <th>ad_id</th>\n",
       "      <th>clicked</th>\n",
       "      <th>uuid</th>\n",
       "      <th>document_id</th>\n",
       "      <th>timestamp</th>\n",
       "      <th>platform</th>\n",
       "      <th>geo_location</th>\n",
       "    </tr>\n",
       "  </thead>\n",
       "  <tbody>\n",
       "    <tr>\n",
       "      <th>93387254</th>\n",
       "      <td>23120117</td>\n",
       "      <td></td>\n",
       "      <td></td>\n",
       "      <td>656cedaf95c5d0</td>\n",
       "      <td>2985645</td>\n",
       "      <td>1295999360</td>\n",
       "      <td>1</td>\n",
       "      <td>US&gt;TX&gt;618</td>\n",
       "    </tr>\n",
       "    <tr>\n",
       "      <th>93387255</th>\n",
       "      <td>23120118</td>\n",
       "      <td></td>\n",
       "      <td></td>\n",
       "      <td>f9e31a6bab2578</td>\n",
       "      <td>310779</td>\n",
       "      <td>1295999547</td>\n",
       "      <td>2</td>\n",
       "      <td>US&gt;NY&gt;538</td>\n",
       "    </tr>\n",
       "    <tr>\n",
       "      <th>93387256</th>\n",
       "      <td>23120119</td>\n",
       "      <td></td>\n",
       "      <td></td>\n",
       "      <td>31a19347301c57</td>\n",
       "      <td>1788295</td>\n",
       "      <td>1295999563</td>\n",
       "      <td>1</td>\n",
       "      <td>US&gt;TX&gt;600</td>\n",
       "    </tr>\n",
       "    <tr>\n",
       "      <th>93387257</th>\n",
       "      <td>23120120</td>\n",
       "      <td></td>\n",
       "      <td></td>\n",
       "      <td>ca33f12ef839dd</td>\n",
       "      <td>2306525</td>\n",
       "      <td>1295999567</td>\n",
       "      <td>1</td>\n",
       "      <td>US&gt;IL&gt;609</td>\n",
       "    </tr>\n",
       "    <tr>\n",
       "      <th>93387258</th>\n",
       "      <td>23120121</td>\n",
       "      <td></td>\n",
       "      <td></td>\n",
       "      <td>176f586048741e</td>\n",
       "      <td>1347238</td>\n",
       "      <td>1295999569</td>\n",
       "      <td>2</td>\n",
       "      <td>CA&gt;AB</td>\n",
       "    </tr>\n",
       "    <tr>\n",
       "      <th>93387259</th>\n",
       "      <td>23120122</td>\n",
       "      <td></td>\n",
       "      <td></td>\n",
       "      <td>3b42aaa4aa8993</td>\n",
       "      <td>1827718</td>\n",
       "      <td>1295999574</td>\n",
       "      <td>1</td>\n",
       "      <td>US&gt;FL&gt;571</td>\n",
       "    </tr>\n",
       "    <tr>\n",
       "      <th>93387260</th>\n",
       "      <td>23120123</td>\n",
       "      <td></td>\n",
       "      <td></td>\n",
       "      <td>7efccdc2d58fd1</td>\n",
       "      <td>2984543</td>\n",
       "      <td>1295999591</td>\n",
       "      <td>2</td>\n",
       "      <td>US&gt;TX&gt;623</td>\n",
       "    </tr>\n",
       "    <tr>\n",
       "      <th>93387261</th>\n",
       "      <td>23120124</td>\n",
       "      <td></td>\n",
       "      <td></td>\n",
       "      <td>11f9ac8cee26f2</td>\n",
       "      <td>751048</td>\n",
       "      <td>1295999657</td>\n",
       "      <td>2</td>\n",
       "      <td>US&gt;GA&gt;524</td>\n",
       "    </tr>\n",
       "    <tr>\n",
       "      <th>93387262</th>\n",
       "      <td>23120125</td>\n",
       "      <td></td>\n",
       "      <td></td>\n",
       "      <td>6bbdc5756789cc</td>\n",
       "      <td>744496</td>\n",
       "      <td>1295999771</td>\n",
       "      <td>2</td>\n",
       "      <td>US&gt;MI&gt;505</td>\n",
       "    </tr>\n",
       "    <tr>\n",
       "      <th>93387263</th>\n",
       "      <td>23120126</td>\n",
       "      <td></td>\n",
       "      <td></td>\n",
       "      <td>b545c100626cba</td>\n",
       "      <td>2357447</td>\n",
       "      <td>1295999805</td>\n",
       "      <td>2</td>\n",
       "      <td>US&gt;SD&gt;764</td>\n",
       "    </tr>\n",
       "  </tbody>\n",
       "</table>\n",
       "</div>"
      ],
      "text/plain": [
       "          display_id ad_id clicked            uuid  document_id   timestamp  \\\n",
       "93387254    23120117                656cedaf95c5d0      2985645  1295999360   \n",
       "93387255    23120118                f9e31a6bab2578       310779  1295999547   \n",
       "93387256    23120119                31a19347301c57      1788295  1295999563   \n",
       "93387257    23120120                ca33f12ef839dd      2306525  1295999567   \n",
       "93387258    23120121                176f586048741e      1347238  1295999569   \n",
       "93387259    23120122                3b42aaa4aa8993      1827718  1295999574   \n",
       "93387260    23120123                7efccdc2d58fd1      2984543  1295999591   \n",
       "93387261    23120124                11f9ac8cee26f2       751048  1295999657   \n",
       "93387262    23120125                6bbdc5756789cc       744496  1295999771   \n",
       "93387263    23120126                b545c100626cba      2357447  1295999805   \n",
       "\n",
       "         platform geo_location  \n",
       "93387254        1    US>TX>618  \n",
       "93387255        2    US>NY>538  \n",
       "93387256        1    US>TX>600  \n",
       "93387257        1    US>IL>609  \n",
       "93387258        2        CA>AB  \n",
       "93387259        1    US>FL>571  \n",
       "93387260        2    US>TX>623  \n",
       "93387261        2    US>GA>524  \n",
       "93387262        2    US>MI>505  \n",
       "93387263        2    US>SD>764  "
      ]
     },
     "execution_count": 6,
     "metadata": {},
     "output_type": "execute_result"
    }
   ],
   "source": [
    "merged_train_data.tail(10)"
   ]
  },
  {
   "cell_type": "code",
   "execution_count": 7,
   "metadata": {},
   "outputs": [
    {
     "data": {
      "text/plain": [
       "478951"
      ]
     },
     "execution_count": 7,
     "metadata": {},
     "output_type": "execute_result"
    }
   ],
   "source": [
    "merged_train_data[\"ad_id\"].nunique() #unique advertisements ids\n",
    "#events_info[\"document_id\"].nunique()"
   ]
  },
  {
   "cell_type": "markdown",
   "metadata": {},
   "source": [
    "### merge also test data with events info"
   ]
  },
  {
   "cell_type": "code",
   "execution_count": 25,
   "metadata": {},
   "outputs": [],
   "source": [
    "merged_test_data = test_data.merge(events_info, on=\"display_id\", how=\"outer\").fillna(\"\")"
   ]
  },
  {
   "cell_type": "code",
   "execution_count": 28,
   "metadata": {},
   "outputs": [
    {
     "data": {
      "text/html": [
       "<div>\n",
       "<style scoped>\n",
       "    .dataframe tbody tr th:only-of-type {\n",
       "        vertical-align: middle;\n",
       "    }\n",
       "\n",
       "    .dataframe tbody tr th {\n",
       "        vertical-align: top;\n",
       "    }\n",
       "\n",
       "    .dataframe thead th {\n",
       "        text-align: right;\n",
       "    }\n",
       "</style>\n",
       "<table border=\"1\" class=\"dataframe\">\n",
       "  <thead>\n",
       "    <tr style=\"text-align: right;\">\n",
       "      <th></th>\n",
       "      <th>display_id</th>\n",
       "      <th>ad_id</th>\n",
       "      <th>uuid</th>\n",
       "      <th>document_id</th>\n",
       "      <th>timestamp</th>\n",
       "      <th>platform</th>\n",
       "      <th>geo_location</th>\n",
       "    </tr>\n",
       "  </thead>\n",
       "  <tbody>\n",
       "    <tr>\n",
       "      <th>49099745</th>\n",
       "      <td>16874584</td>\n",
       "      <td></td>\n",
       "      <td>94680f981bf165</td>\n",
       "      <td>2311552</td>\n",
       "      <td>1123198843</td>\n",
       "      <td>2</td>\n",
       "      <td>US&gt;OH&gt;535</td>\n",
       "    </tr>\n",
       "    <tr>\n",
       "      <th>49099746</th>\n",
       "      <td>16874585</td>\n",
       "      <td></td>\n",
       "      <td>6c23d6809274d4</td>\n",
       "      <td>479781</td>\n",
       "      <td>1123198914</td>\n",
       "      <td>2</td>\n",
       "      <td>CA&gt;AB</td>\n",
       "    </tr>\n",
       "    <tr>\n",
       "      <th>49099747</th>\n",
       "      <td>16874586</td>\n",
       "      <td></td>\n",
       "      <td>1931d00a6f2830</td>\n",
       "      <td>2799635</td>\n",
       "      <td>1123199143</td>\n",
       "      <td>2</td>\n",
       "      <td>US&gt;TX&gt;635</td>\n",
       "    </tr>\n",
       "    <tr>\n",
       "      <th>49099748</th>\n",
       "      <td>16874587</td>\n",
       "      <td></td>\n",
       "      <td>f82df924309e8b</td>\n",
       "      <td>161824</td>\n",
       "      <td>1123199167</td>\n",
       "      <td>2</td>\n",
       "      <td>US&gt;CA&gt;825</td>\n",
       "    </tr>\n",
       "    <tr>\n",
       "      <th>49099749</th>\n",
       "      <td>16874588</td>\n",
       "      <td></td>\n",
       "      <td>1bf30bbd832319</td>\n",
       "      <td>2822648</td>\n",
       "      <td>1123199298</td>\n",
       "      <td>2</td>\n",
       "      <td>US&gt;VA&gt;511</td>\n",
       "    </tr>\n",
       "    <tr>\n",
       "      <th>49099750</th>\n",
       "      <td>16874589</td>\n",
       "      <td></td>\n",
       "      <td>d2c47d8183e37b</td>\n",
       "      <td>876520</td>\n",
       "      <td>1123199313</td>\n",
       "      <td>3</td>\n",
       "      <td>US&gt;TN&gt;557</td>\n",
       "    </tr>\n",
       "    <tr>\n",
       "      <th>49099751</th>\n",
       "      <td>16874590</td>\n",
       "      <td></td>\n",
       "      <td>4032cf074d74a3</td>\n",
       "      <td>2819923</td>\n",
       "      <td>1123199470</td>\n",
       "      <td>3</td>\n",
       "      <td>US&gt;NM&gt;790</td>\n",
       "    </tr>\n",
       "    <tr>\n",
       "      <th>49099752</th>\n",
       "      <td>16874591</td>\n",
       "      <td></td>\n",
       "      <td>49396799cb3a40</td>\n",
       "      <td>2816969</td>\n",
       "      <td>1123199601</td>\n",
       "      <td>1</td>\n",
       "      <td>US&gt;IN&gt;582</td>\n",
       "    </tr>\n",
       "    <tr>\n",
       "      <th>49099753</th>\n",
       "      <td>16874592</td>\n",
       "      <td></td>\n",
       "      <td>45f3b28fd8f19d</td>\n",
       "      <td>2823420</td>\n",
       "      <td>1123199635</td>\n",
       "      <td>2</td>\n",
       "      <td>GB</td>\n",
       "    </tr>\n",
       "    <tr>\n",
       "      <th>49099754</th>\n",
       "      <td>16874593</td>\n",
       "      <td></td>\n",
       "      <td>21f03d8a66e702</td>\n",
       "      <td>2777166</td>\n",
       "      <td>1123199936</td>\n",
       "      <td>2</td>\n",
       "      <td>US&gt;NJ&gt;501</td>\n",
       "    </tr>\n",
       "  </tbody>\n",
       "</table>\n",
       "</div>"
      ],
      "text/plain": [
       "          display_id ad_id            uuid  document_id   timestamp platform  \\\n",
       "49099745    16874584        94680f981bf165      2311552  1123198843        2   \n",
       "49099746    16874585        6c23d6809274d4       479781  1123198914        2   \n",
       "49099747    16874586        1931d00a6f2830      2799635  1123199143        2   \n",
       "49099748    16874587        f82df924309e8b       161824  1123199167        2   \n",
       "49099749    16874588        1bf30bbd832319      2822648  1123199298        2   \n",
       "49099750    16874589        d2c47d8183e37b       876520  1123199313        3   \n",
       "49099751    16874590        4032cf074d74a3      2819923  1123199470        3   \n",
       "49099752    16874591        49396799cb3a40      2816969  1123199601        1   \n",
       "49099753    16874592        45f3b28fd8f19d      2823420  1123199635        2   \n",
       "49099754    16874593        21f03d8a66e702      2777166  1123199936        2   \n",
       "\n",
       "         geo_location  \n",
       "49099745    US>OH>535  \n",
       "49099746        CA>AB  \n",
       "49099747    US>TX>635  \n",
       "49099748    US>CA>825  \n",
       "49099749    US>VA>511  \n",
       "49099750    US>TN>557  \n",
       "49099751    US>NM>790  \n",
       "49099752    US>IN>582  \n",
       "49099753           GB  \n",
       "49099754    US>NJ>501  "
      ]
     },
     "execution_count": 28,
     "metadata": {},
     "output_type": "execute_result"
    }
   ],
   "source": [
    "merged_test_data.tail(10)"
   ]
  },
  {
   "cell_type": "markdown",
   "metadata": {},
   "source": [
    "### read also test data to be able to check distribution against train data."
   ]
  },
  {
   "cell_type": "code",
   "execution_count": 9,
   "metadata": {},
   "outputs": [],
   "source": [
    "train_csv = '../data/clicks_test.csv'\n",
    "test_data = pd.read_csv(train_csv)"
   ]
  },
  {
   "cell_type": "code",
   "execution_count": 12,
   "metadata": {},
   "outputs": [
    {
     "data": {
      "text/plain": [
       "<bound method DataFrame.info of           display_id   ad_id  clicked\n",
       "0                  1   42337        0\n",
       "1                  1  139684        0\n",
       "2                  1  144739        1\n",
       "3                  1  156824        0\n",
       "4                  1  279295        0\n",
       "...              ...     ...      ...\n",
       "87141726    16874592  186600        0\n",
       "87141727    16874593  151498        1\n",
       "87141728    16874593  282350        0\n",
       "87141729    16874593  521828        0\n",
       "87141730    16874593  522693        0\n",
       "\n",
       "[87141731 rows x 3 columns]>"
      ]
     },
     "execution_count": 12,
     "metadata": {},
     "output_type": "execute_result"
    }
   ],
   "source": [
    "test_data.info\n",
    "train_data.info"
   ]
  },
  {
   "cell_type": "markdown",
   "metadata": {},
   "source": [
    "### comparing the distribution on clicks vs hours, to check test vs. train data "
   ]
  },
  {
   "cell_type": "code",
   "execution_count": 31,
   "metadata": {},
   "outputs": [
    {
     "name": "stdout",
     "output_type": "stream",
     "text": [
      "[(0.12156862745098039, 0.4666666666666667, 0.7058823529411765), (1.0, 0.4980392156862745, 0.054901960784313725), (0.17254901960784313, 0.6274509803921569, 0.17254901960784313), (0.8392156862745098, 0.15294117647058825, 0.1568627450980392), (0.5803921568627451, 0.403921568627451, 0.7411764705882353), (0.5490196078431373, 0.33725490196078434, 0.29411764705882354), (0.8901960784313725, 0.4666666666666667, 0.7607843137254902), (0.4980392156862745, 0.4980392156862745, 0.4980392156862745), (0.7372549019607844, 0.7411764705882353, 0.13333333333333333), (0.09019607843137255, 0.7450980392156863, 0.8117647058823529)]\n"
     ]
    }
   ],
   "source": [
    "p = sns.color_palette()\n",
    "print(p)"
   ]
  },
  {
   "cell_type": "code",
   "execution_count": 34,
   "metadata": {},
   "outputs": [
    {
     "data": {
      "text/plain": [
       "Text(0, 0.5, 'Proportion of set')"
      ]
     },
     "execution_count": 34,
     "metadata": {},
     "output_type": "execute_result"
    },
    {
     "data": {
      "image/png": "[encoded data removed]",
      "text/plain": [
       "<Figure size 864x288 with 1 Axes>"
      ]
     },
     "metadata": {
      "needs_background": "light"
     },
     "output_type": "display_data"
    }
   ],
   "source": [
    "%matplotlib inline\n",
    "import matplotlib.pyplot as plt\n",
    "train_ads_per_display = train_data.groupby('display_id')['ad_id'].count().value_counts()\n",
    "test_ads_per_display = test_data.groupby('display_id')['ad_id'].count().value_counts()\n",
    "train_ads_per_display = train_ads_per_display / np.sum(train_ads_per_display)\n",
    "test_ads_per_display = test_ads_per_display / np.sum(test_ads_per_display)\n",
    "\n",
    "plt.figure(figsize=(12,4))\n",
    "sns.barplot(train_ads_per_display.index, train_ads_per_display.values, alpha=0.8, color=p[0], label='train')\n",
    "sns.barplot(test_ads_per_display.index, test_ads_per_display.values, alpha=0.6, color=p[3], label='test')\n",
    "plt.legend()\n",
    "plt.xlabel('Number of Ads in display', fontsize=12)\n",
    "plt.ylabel('Proportion of set', fontsize=12)"
   ]
  },
  {
   "cell_type": "markdown",
   "metadata": {},
   "source": [
    "### Add distribution per display seems to be ok.\n",
    "### Now checking the again the distribution per region."
   ]
  },
  {
   "cell_type": "code",
   "execution_count": null,
   "metadata": {},
   "outputs": [],
   "source": [
    "%matplotlib inline\n",
    "import matplotlib.pyplot as plt\n",
    "merged_train_data_disp = merged_train_data.groupby('display_id')['geo_location'].count().value_counts()\n",
    "merged_test_data_disp = merged_test_data.groupby('display_id')['geo_location'].count().value_counts()\n",
    "merged_train_data_disp = merged_train_data_disp / np.sum(merged_train_data_disp)\n",
    "merged_test_data_disp = merged_test_data_disp / np.sum(merged_test_data_disp)\n",
    "\n",
    "plt.figure(figsize=(12,4))\n",
    "sns.barplot(merged_train_data_disp.index, merged_train_data_disp.values, alpha=0.8, color=p[0], label='train')\n",
    "sns.barplot(merged_test_data_disp.index, merged_test_data_disp.values, alpha=0.6, color=p[8], label='test')\n",
    "plt.legend()\n",
    "plt.xlabel('Number of Ads in display', fontsize=12)\n",
    "plt.ylabel('Proportion of set', fontsize=12)"
   ]
  },
  {
   "cell_type": "markdown",
   "metadata": {},
   "source": [
    "### so the distribution on geo_location in between test and dev is not quite the same"
   ]
  },
  {
   "cell_type": "code",
   "execution_count": null,
   "metadata": {},
   "outputs": [],
   "source": []
  }
 ],
 "metadata": {
  "kernelspec": {
   "display_name": "Python 3",
   "language": "python",
   "name": "python3"
  },
  "language_info": {
   "codemirror_mode": {
    "name": "ipython",
    "version": 3
   },
   "file_extension": ".py",
   "mimetype": "text/x-python",
   "name": "python",
   "nbconvert_exporter": "python",
   "pygments_lexer": "ipython3",
   "version": "3.6.4"
  }
 },
 "nbformat": 4,
 "nbformat_minor": 1
}
